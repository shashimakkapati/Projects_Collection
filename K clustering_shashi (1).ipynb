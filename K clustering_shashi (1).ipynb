{
 "cells": [
  {
   "cell_type": "markdown",
   "id": "a3e9a462",
   "metadata": {},
   "source": [
    "K MEANS CLUSTERING ALGORITHM\n",
    "by: SHASHI VALLABH MAKKAPATI\n",
    "roll: 23EC30048"
   ]
  },
  {
   "cell_type": "markdown",
   "id": "49ad16d5",
   "metadata": {},
   "source": [
    "importing the necessary libraries"
   ]
  },
  {
   "cell_type": "code",
   "execution_count": 304,
   "id": "2a0366c9",
   "metadata": {},
   "outputs": [],
   "source": [
    "import math\n",
    "from PIL import Image\n",
    "import numpy as np\n",
    "import random\n",
    "import matplotlib.pyplot as plt"
   ]
  },
  {
   "cell_type": "markdown",
   "id": "ac9e815b",
   "metadata": {},
   "source": [
    "We first load the image and convert black pixels to 0 and white pixels to 1\n",
    "Finally, boolimg is a 64*64 array containing 0s and 1s\n",
    "Count is the number of white pixels in the image"
   ]
  },
  {
   "cell_type": "code",
   "execution_count": 366,
   "id": "124ce9f5",
   "metadata": {},
   "outputs": [],
   "source": [
    "np.set_printoptions(threshold=np.inf) #just in case we want to view the entire arrays\n",
    "img=Image.open(r\"C:\\Users\\shash\\Downloads\\4.png\")\n",
    "imgarray=np.array(img)\n",
    "boolimg=np.zeros((64,64),dtype=int)\n",
    "count=0\n",
    "for i in range(64):\n",
    "    for j in range(64):\n",
    "        if np.array_equal(imgarray[i, j], [0, 0, 0, 255]):boolimg[i,j]=0\n",
    "        else: \n",
    "            boolimg[i,j]=1\n",
    "            count+=1\n"
   ]
  },
  {
   "cell_type": "markdown",
   "id": "a8806181",
   "metadata": {},
   "source": [
    "user defined functions"
   ]
  },
  {
   "cell_type": "code",
   "execution_count": 367,
   "id": "2a42c069",
   "metadata": {},
   "outputs": [],
   "source": [
    "def distance(p,q):\n",
    "    return math.sqrt((p[0]-q[0])**2+(p[1]-q[1])**2)"
   ]
  },
  {
   "cell_type": "markdown",
   "id": "cc55dc50",
   "metadata": {},
   "source": [
    "Error is encountered if one of the initial guesses maps to none of the pixels\n",
    "To get rid of this case check0 function is defined\n",
    "For a given centroid list, it checks if any of the centroids maps to 0 elements"
   ]
  },
  {
   "cell_type": "code",
   "execution_count": 368,
   "id": "dc386f98",
   "metadata": {},
   "outputs": [],
   "source": [
    "def check0(centroids,k): #error is encountered if one of the initial guesses maps to none of the pixels\n",
    "    append_indexes=[0]*k\n",
    "    for i in range(64):\n",
    "     for j in range(64):\n",
    "        if(boolimg[i,j]):\n",
    "         \n",
    "         distances=[]\n",
    "         for k in range(len(centroids)):\n",
    "            distances.append(distance(np.array([i,j]),centroids[k,:]))\n",
    "         \n",
    "         crrspc=np.argmin(distances)\n",
    "         \n",
    "         \n",
    "         \n",
    "         append_indexes[crrspc]+=1\n",
    "          #finally, append_indexes stores the number of elements corresponding to each centroid\n",
    "    return 0 in append_indexes\n"
   ]
  },
  {
   "cell_type": "markdown",
   "id": "74967c74",
   "metadata": {},
   "source": [
    "main k clustering algorithm"
   ]
  },
  {
   "cell_type": "code",
   "execution_count": 369,
   "id": "5b9c9bfa",
   "metadata": {},
   "outputs": [],
   "source": [
    "def kclusters(k,boolimg,count):\n",
    " \n",
    " centroids=np.empty((k,2),dtype=int)\n",
    " white_pixel=np.argwhere(boolimg==1) #stores all the white pixels\n",
    " centroids=white_pixel[np.random.choice(len(white_pixel),size=k,replace=False)] #initial guess is k number of white pixels\n",
    " \n",
    " while (check0(centroids,k)):\n",
    "         centroids=white_pixel[np.random.choice(len(white_pixel),size=k,replace=False)]\n",
    " #we will only come out of the loop if all centroids map to at least one element\n",
    " while True:\n",
    "  newcentroids=np.empty((k,2),dtype=int)\n",
    "  clusters=np.empty((k,count,2),dtype=int)\n",
    "  append_indexes=[0]*k\n",
    "\n",
    "  for i in range(64):\n",
    "    for j in range(64):\n",
    "        if(boolimg[i,j]):\n",
    "         #storing distances of a given white pixel from every centroid\n",
    "         distances=[]\n",
    "         for p in range(len(centroids)):\n",
    "            distances.append(distance(np.array([i,j]),centroids[p,:]))\n",
    "         \n",
    "         crrspc=np.argmin(distances)\n",
    "         #the centroid nearest to the white pixel is calculated and added to the corresponding centroids' cluster\n",
    "         \n",
    "         clusters[crrspc,append_indexes[crrspc],:]=np.array([i,j])\n",
    "         append_indexes[crrspc]+=1\n",
    " \n",
    "  flag=check0(centroids,k)\n",
    "  while (check0(centroids,k)):\n",
    "    \n",
    "       \n",
    "         \n",
    "         centroids=white_pixel[np.random.choice(len(white_pixel),size=k,replace=False)]\n",
    "  if flag:\n",
    "    continue\n",
    "  #if one of the centroid still maps to 0 after/before calculating mean, we again start from a random centroid set\n",
    "  for i in range(k):\n",
    "    sumx=0\n",
    "    sumy=0\n",
    "    for j in range(append_indexes[i]):\n",
    "        sumx=sumx+clusters[i,j,0]\n",
    "        sumy=sumy+clusters[i,j,1]\n",
    "    newcentroids[i:]=[sumx/append_indexes[i],sumy/append_indexes[i]]  \n",
    "    #new centroid contains the centroid of each cluster\n",
    "  #convergence condition : if the centroid doesnt change after an iteration \n",
    "  if(np.array_equal(newcentroids,centroids)):\n",
    "    break\n",
    "  centroids=newcentroids\n",
    " return newcentroids,clusters,append_indexes\n"
   ]
  },
  {
   "cell_type": "markdown",
   "id": "86c1190b",
   "metadata": {},
   "source": [
    "how ever the k cluster algorithm is very sensitive to the inital random means and can give a few anamolous results\n",
    "to clean this, we keep calling the same kclusters function until two consecutive calls give the same values"
   ]
  },
  {
   "cell_type": "code",
   "execution_count": 370,
   "id": "d08ad66c",
   "metadata": {},
   "outputs": [],
   "source": [
    "def k_cluster_cleaned(k,boolimg,count):\n",
    "    while True:\n",
    "     centres,clusters,append_indexes=kclusters(k,boolimg,count)\n",
    "     centres2,clusters2,append_indexes2=kclusters(k,boolimg,count)\n",
    "     if(np.array_equal(centres,centres2)):\n",
    "      break\n",
    "    return centres,clusters,append_indexes"
   ]
  },
  {
   "cell_type": "markdown",
   "id": "59e94dda",
   "metadata": {},
   "source": [
    "following function helps us in elbow method where the function returns \"within  cluster sum of square\" for a given k"
   ]
  },
  {
   "cell_type": "code",
   "execution_count": 371,
   "id": "aa130f2a",
   "metadata": {},
   "outputs": [],
   "source": [
    "def sum_square_error(k,boolimg,count):\n",
    "    newcentroids,clusters,append_indexes=kclusters(k,boolimg,count)\n",
    "    sse=0\n",
    "    for i in range(k):\n",
    "        for j in range(append_indexes[i]):\n",
    "            sse=sse+distance(newcentroids[i],clusters[i,j,:])**2\n",
    "    return sse"
   ]
  },
  {
   "cell_type": "markdown",
   "id": "62919bf4",
   "metadata": {},
   "source": [
    "User has to enter a suitable elbow point after the program prints the sse plot "
   ]
  },
  {
   "cell_type": "code",
   "execution_count": 372,
   "id": "e0123a17",
   "metadata": {},
   "outputs": [
    {
     "data": {
      "image/png": "[encoded data removed]",
      "text/plain": [
       "<Figure size 640x480 with 1 Axes>"
      ]
     },
     "metadata": {},
     "output_type": "display_data"
    },
    {
     "name": "stdout",
     "output_type": "stream",
     "text": [
      "enter the elbow point2\n"
     ]
    }
   ],
   "source": [
    "#Now we identify the cities by calling the functions\n",
    "sselist=[] #stores the within cluster squared distance sum for values of k from 1 to 8\n",
    "for q in range(8):\n",
    "     sselist.append(sum_square_error(q+1,boolimg,count))\n",
    "    \n",
    "x_axis=range(1,9)\n",
    "plt.plot(x_axis,sselist, marker='o')\n",
    "plt.xlabel('Number of Clusters (k)')\n",
    "plt.ylabel('Sum of Squared Error')\n",
    "plt.title('Elbow Method for Finding k')\n",
    "plt.grid(True)\n",
    "plt.show()\n",
    "correct_k=int(input(\"enter the elbow point\"))\n",
    "\n",
    "city_centres,cities,lights=k_cluster_cleaned(correct_k,boolimg,count)\n",
    "\n",
    "k=len(city_centres)\n",
    "\n",
    "#we change the pixels of the original image to different colours for each cluster\n",
    "for i in range(k):\n",
    "    for j in range(lights[i]):\n",
    "        \n",
    "        imgarray[(cities[i,j])[0],(cities[i,j])[1]]=[255,255*(1+i)/(k+1),255*(1+i)/(k+1),255]"
   ]
  },
  {
   "cell_type": "code",
   "execution_count": 373,
   "id": "5878b8b4",
   "metadata": {
    "scrolled": true
   },
   "outputs": [
    {
     "data": {
      "image/png": "[encoded data removed]",
      "text/plain": [
       "<Figure size 640x480 with 1 Axes>"
      ]
     },
     "metadata": {},
     "output_type": "display_data"
    }
   ],
   "source": [
    "plt.imshow(imgarray)\n",
    "plt.axis('off')\n",
    "plt.title('cities clustered')\n",
    "plt.show()"
   ]
  },
  {
   "cell_type": "code",
   "execution_count": 374,
   "id": "d5467155",
   "metadata": {},
   "outputs": [
    {
     "name": "stdout",
     "output_type": "stream",
     "text": [
      "city  1  is  [38 57]\n",
      "city  2  is  [20 21]\n",
      "distance between city  1  and city  2  is  40.24922359499622\n"
     ]
    }
   ],
   "source": [
    "dist_between_cities=[]\n",
    "for i in range(k):\n",
    "    print('city ',i+1,' is ',city_centres[i])\n",
    "for i in range(k):\n",
    "    for j in range(i+1,k):\n",
    "        dist_between_cities.append(distance(city_centres[i],city_centres[j]))\n",
    "print_count=0\n",
    "for i in range(k):\n",
    "    for j in range(i+1,k):\n",
    "        print(\"distance between city \",i+1,\" and city \",j+1,\" is \",dist_between_cities[print_count])\n",
    "        print_count+=1"
   ]
  },
  {
   "cell_type": "code",
   "execution_count": null,
   "id": "9e357031",
   "metadata": {},
   "outputs": [],
   "source": []
  }
 ],
 "metadata": {
  "kernelspec": {
   "display_name": "Python 3 (ipykernel)",
   "language": "python",
   "name": "python3"
  },
  "language_info": {
   "codemirror_mode": {
    "name": "ipython",
    "version": 3
   },
   "file_extension": ".py",
   "mimetype": "text/x-python",
   "name": "python",
   "nbconvert_exporter": "python",
   "pygments_lexer": "ipython3",
   "version": "3.11.7"
  }
 },
 "nbformat": 4,
 "nbformat_minor": 5
}
