{
  "nbformat": 4,
  "nbformat_minor": 0,
  "metadata": {
    "colab": {
      "provenance": []
    },
    "kernelspec": {
      "name": "python3",
      "display_name": "Python 3"
    },
    "language_info": {
      "name": "python"
    }
  },
  "cells": [
    {
      "cell_type": "code",
      "execution_count": null,
      "metadata": {
        "collapsed": true,
        "id": "I3nV2wRqzAuH"
      },
      "outputs": [],
      "source": [
        "!pip install pandas numpy matplotlib yfinance"
      ]
    },
    {
      "cell_type": "code",
      "source": [
        "import pandas as pd\n",
        "import numpy as np\n",
        "import matplotlib.pyplot as plt\n",
        "import yfinance as yf"
      ],
      "metadata": {
        "id": "S2jHIJHKzhwU"
      },
      "execution_count": null,
      "outputs": []
    },
    {
      "cell_type": "code",
      "source": [
        "import contextlib\n",
        "import sys, os\n",
        "import warnings\n",
        "warnings.filterwarnings('ignore')\n",
        "\n",
        "\n",
        "@contextlib.contextmanager\n",
        "def suppress_output():\n",
        "    with open(os.devnull, \"w\") as devnull:\n",
        "        old_stdout = sys.stdout\n",
        "        old_stderr = sys.stderr\n",
        "        sys.stdout = devnull\n",
        "        sys.stderr = devnull\n",
        "        try:\n",
        "            yield\n",
        "        finally:\n",
        "            sys.stdout = old_stdout\n",
        "            sys.stderr = old_stderr\n"
      ],
      "metadata": {
        "id": "IPkrMHI8HRu0"
      },
      "execution_count": null,
      "outputs": []
    },
    {
      "cell_type": "code",
      "source": [
        "import yfinance as yf\n",
        "\n",
        "def download_data(ticker, start_date, end_date):\n",
        "    \"\"\"\n",
        "    Download historical stock data from Yahoo Finance.\n",
        "\n",
        "    Parameters:\n",
        "    ticker (str): Stock ticker symbol.\n",
        "    start_date (str): Start date in 'YYYY-MM-DD' format.\n",
        "    end_date (str): End date in 'YYYY-MM-DD' format.\n",
        "\n",
        "    Returns:\n",
        "    pd.DataFrame: Historical stock data.\n",
        "    \"\"\"\n",
        "    data = yf.download(ticker, start=start_date, end=end_date)\n",
        "    data['Date'] = data.index\n",
        "    data = data[['Date', 'Open', 'High', 'Low', 'Close', 'Adj Close', 'Volume']]\n",
        "    return data\n"
      ],
      "metadata": {
        "id": "9rX2z_vbzsQ2"
      },
      "execution_count": null,
      "outputs": []
    },
    {
      "cell_type": "code",
      "source": [
        "def moving_average_strategy(data, short_window, long_window):\n",
        "    data['short_mavg'] = data['Close'].rolling(window=short_window).mean()\n",
        "    data['long_mavg'] = data['Close'].rolling(window=long_window).mean()\n",
        "    data['signal'] = 0\n",
        "    data['signal'][short_window:] = np.where(data['short_mavg'][short_window:] > data['long_mavg'][short_window:], 1, 0)\n",
        "    data['positions'] = data['signal'].diff()\n",
        "    return data\n",
        "\n",
        "\n",
        "def MACD(data, short_window, long_window, signal_window):\n",
        "    short_ema = data['Close'].ewm(span=short_window, adjust=False).mean()\n",
        "    long_ema = data['Close'].ewm(span=long_window, adjust=False).mean()\n",
        "    macd = short_ema - long_ema\n",
        "    signal_line = macd.ewm(span=signal_window, adjust=False).mean()\n",
        "    return macd, signal_line\n",
        "\n",
        "def macd_strategy(data, short_window, long_window, signal_window):\n",
        "    data['macd'], data['signal_line'] = MACD(data, short_window, long_window, signal_window)\n",
        "    data['signal'] = 0\n",
        "    data['signal'][short_window:] = np.where(data['macd'][short_window:] > data['signal_line'][short_window:], 1, 0)\n",
        "    data['positions'] = data['signal'].diff()\n",
        "    return data\n"
      ],
      "metadata": {
        "id": "TfKqS_Ik2A5O"
      },
      "execution_count": null,
      "outputs": []
    },
    {
      "cell_type": "code",
      "source": [
        "def backtest(data, initial_capital):\n",
        "    positions = pd.DataFrame(index=data.index).fillna(0.0)\n",
        "    positions['Stock'] = 0.0  # Initialize the 'Stock' column with 0.0\n",
        "    portfolio = pd.DataFrame(index=data.index).fillna(0.0)\n",
        "\n",
        "    # Initial cash\n",
        "    portfolio['cash'] = initial_capital\n",
        "    portfolio['holdings'] = 0.0\n",
        "    portfolio['total'] = initial_capital\n",
        "    portfolio['returns'] = 0.0\n",
        "\n",
        "    # Iterating through the data to simulate the trades\n",
        "    for i in range(1, len(data)):\n",
        "        if data['signal'].iloc[i] == 1 and portfolio['cash'].iloc[i-1] >= data['Close'].iloc[i] * 100:\n",
        "            # Buy signal and enough cash available\n",
        "            positions['Stock'].iloc[i] = positions['Stock'].iloc[i-1] + 100\n",
        "            portfolio['cash'].iloc[i] = portfolio['cash'].iloc[i-1] - data['Close'].iloc[i] * 100\n",
        "        elif data['signal'].iloc[i] == 0 and positions['Stock'].iloc[i-1] >= 100:\n",
        "            # Sell signal and enough stock available\n",
        "            positions['Stock'].iloc[i] = positions['Stock'].iloc[i-1] - 100\n",
        "            portfolio['cash'].iloc[i] = portfolio['cash'].iloc[i-1] + data['Close'].iloc[i] * 100\n",
        "        else:\n",
        "            # No trade, carry forward previous positions and cash\n",
        "            positions['Stock'].iloc[i] = positions['Stock'].iloc[i-1]\n",
        "            portfolio['cash'].iloc[i] = portfolio['cash'].iloc[i-1]\n",
        "\n",
        "        # Calculate holdings\n",
        "        portfolio['holdings'].iloc[i] = positions['Stock'].iloc[i] * data['Close'].iloc[i]\n",
        "        portfolio['total'].iloc[i] = portfolio['cash'].iloc[i] + portfolio['holdings'].iloc[i]\n",
        "        portfolio['returns'].iloc[i] = portfolio['total'].pct_change().iloc[i]\n",
        "\n",
        "    return portfolio\n"
      ],
      "metadata": {
        "id": "qy02-L2U2Dea"
      },
      "execution_count": null,
      "outputs": []
    },
    {
      "cell_type": "code",
      "source": [
        "def generate_report(portfolio, initial_capital):\n",
        "    total_return = portfolio['total'][-1] / initial_capital - 1\n",
        "    annualized_return = (1 + total_return) ** (252 / len(portfolio)) - 1\n",
        "    annualized_volatility = portfolio['returns'].std() * np.sqrt(252)\n",
        "    sharpe_ratio = annualized_return / annualized_volatility\n",
        "\n",
        "    print(f'Total Return: {total_return:.2%}')\n",
        "    print(f'Annualized Return: {annualized_return:.2%}')\n",
        "    print(f'Annualized Volatility: {annualized_volatility:.2%}')\n",
        "    print(f'Sharpe Ratio: {sharpe_ratio:.2f}')\n",
        "\n",
        "    plt.figure(figsize=(12, 8))\n",
        "    plt.plot(portfolio['total'], label='Total Portfolio Value')\n",
        "    plt.title('Equity Curve')\n",
        "    plt.xlabel('Date')\n",
        "    plt.ylabel('Portfolio Value')\n",
        "    plt.legend()\n",
        "    plt.show()\n"
      ],
      "metadata": {
        "id": "hFIYWab82HSi"
      },
      "execution_count": null,
      "outputs": []
    },
    {
      "cell_type": "code",
      "source": [
        "# Step 1: Download data\n",
        "data = download_data('AAPL', '2021-01-01', '2024-01-01')\n",
        "\n",
        "# Step 2: Apply a strategy and suppress output\n",
        "with suppress_output():\n",
        "    data = moving_average_strategy(data, short_window=40, long_window=100)\n",
        "\n",
        "# Step 3: Backtest and suppress output\n",
        "with suppress_output():\n",
        "    initial_capital = 100000.0\n",
        "    portfolio = backtest(data, initial_capital)\n",
        "\n",
        "# Step 4: Generate report\n",
        "generate_report(portfolio, initial_capital)\n"
      ],
      "metadata": {
        "id": "TrpDQVNA3dYy"
      },
      "execution_count": null,
      "outputs": []
    },
    {
      "cell_type": "code",
      "source": [
        "# Step 1: Download data\n",
        "data = download_data('AAPL', '2021-01-01', '2024-01-01')\n",
        "\n",
        "# Step 2: Apply a strategy and suppress output\n",
        "with suppress_output():\n",
        "    data = macd_strategy(data, short_window=12, long_window=26, signal_window=9)\n",
        "\n",
        "# Step 3: Backtest and suppress output\n",
        "with suppress_output():\n",
        "    initial_capital = 100000.0\n",
        "    portfolio = backtest(data, initial_capital)\n",
        "\n",
        "# Step 4: Generate report\n",
        "generate_report(portfolio, initial_capital)\n"
      ],
      "metadata": {
        "id": "48Eb-tTuNKET"
      },
      "execution_count": null,
      "outputs": []
    },
    {
      "cell_type": "code",
      "source": [
        "# Create your own strategy here\n",
        "\n",
        "def new_strategy(data):\n",
        "    # Add your strategy here\n",
        "    # Try some other technical indiactors, also combine two or more indicators to better result\n",
        "    #calculating rsi\n",
        "    delta=data['Close'].diff()\n",
        "    gain=delta.where(delta> 0,0)\n",
        "    loss=-delta.where(delta<0,0)\n",
        "    # Calculate smoothed averages\n",
        "    avg_gain= gain.rolling(window=14,min_periods=1).mean()\n",
        "    avg_loss = loss.rolling(window=14,min_periods=1).mean()\n",
        "    rs=avg_gain /avg_loss.abs()\n",
        "    data['RSI']=100-(100 /(1 + rs))\n",
        "\n",
        "    #calculating obv\n",
        "    data['OBV'] = 0.0\n",
        "    for i in range(1, len(data)):\n",
        "        if data['Close'].iloc[i]>data['Close'].iloc[i - 1]:\n",
        "          data['OBV'].iloc[i]=data['OBV'].iloc[i - 1]+data['Volume'].iloc[i]\n",
        "        elif data['Close'].iloc[i] < data['Close'].iloc[i - 1]:\n",
        "          data['OBV'].iloc[i]=data['OBV'].iloc[i - 1]-data['Volume'].iloc[i]\n",
        "        else:\n",
        "          data['OBV'].iloc[i]=data['OBV'].iloc[i - 1]\n",
        "\n",
        "    #generating signal\n",
        "    #if rsi on a day is less than 35 or obv is higher than it's 10 day moving average, we execute the buy trade\n",
        "    data['signal']=0\n",
        "    for i in range(1, len(data)):\n",
        "      if data['RSI'].iloc[i]<35 or data['OBV'].iloc[i]>data['OBV'].iloc[max(0,i-10):i].mean():\n",
        "            data['signal'].iloc[i]=1  #Buy\n",
        "      elif data['RSI'].iloc[i]>65 or data['OBV'].iloc[i]<data['OBV'].iloc[max(0,i-10):i].mean():\n",
        "            data['signal'].iloc[i]=0  #Sell\n",
        "\n",
        "\n",
        "\n",
        "\n",
        "    # data must have the following columns: 'Date', 'Open', 'High', 'Low', 'Close', 'Adj Close', 'Volume', signal - buy 1 and sell 0\n",
        "    return data"
      ],
      "metadata": {
        "id": "-tvTvBQaNtAJ"
      },
      "execution_count": null,
      "outputs": []
    },
    {
      "cell_type": "code",
      "source": [
        "# Step 1: Download data\n",
        "data = download_data('AAPL', '2021-01-01', '2024-01-01')\n",
        "\n",
        "# Step 2: Apply a strategy and suppress output\n",
        "with suppress_output():\n",
        "    data = new_strategy(data)\n",
        "\n",
        "# Step 3: Backtest and suppress output\n",
        "with suppress_output():\n",
        "    initial_capital = 100000.0\n",
        "    portfolio = backtest(data, initial_capital)\n",
        "\n",
        "# Step 4: Generate report\n",
        "generate_report(portfolio, initial_capital)\n"
      ],
      "metadata": {
        "id": "5yM2doEKRdQe"
      },
      "execution_count": null,
      "outputs": []
    }
  ]
}